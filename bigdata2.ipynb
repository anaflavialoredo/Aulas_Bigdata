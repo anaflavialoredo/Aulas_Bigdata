{
  "nbformat": 4,
  "nbformat_minor": 0,
  "metadata": {
    "colab": {
      "provenance": []
    },
    "kernelspec": {
      "name": "python3",
      "display_name": "Python 3"
    },
    "language_info": {
      "name": "python"
    }
  },
  "cells": [
    {
      "cell_type": "code",
      "source": [
        "import pandas as pd"
      ],
      "metadata": {
        "id": "1Mxadm0zoaaA"
      },
      "execution_count": 86,
      "outputs": []
    },
    {
      "cell_type": "code",
      "execution_count": null,
      "metadata": {
        "id": "5y01V_mTB8di"
      },
      "outputs": [],
      "source": [
        "import numpy as np\n",
        "print('criando array em numpy')\n",
        "x = np.array([1,2,3,4,5])\n",
        "print(x)\n",
        "\n",
        "for num in x:\n",
        "  print(num)\n",
        "\n",
        "for i in range(len(x)):\n",
        "  print(x[i])"
      ]
    },
    {
      "cell_type": "code",
      "source": [
        "a = np.array([[1.0, 2.0],[3.0, 4.0]])\n",
        "b = np.array([[5.0, 6.0],[7.0, 8.0]])\n",
        "\n",
        "soma = a + b\n",
        "produto = a*b\n",
        "diferenca = a-b\n",
        "quociente = a/b\n",
        "\n",
        "print('soma')\n",
        "print(soma)\n",
        "\n",
        "print('====================')\n",
        "\n",
        "print('produto')\n",
        "print(produto)\n",
        "\n",
        "print('====================')\n",
        "\n",
        "print('diferenca')\n",
        "print(diferenca)\n",
        "\n",
        "print('====================')\n",
        "\n",
        "print('quociente')\n",
        "print(quociente)"
      ],
      "metadata": {
        "id": "hpnu1VQcEeHY"
      },
      "execution_count": null,
      "outputs": []
    },
    {
      "cell_type": "code",
      "source": [
        "print('Resolvendo um sistema linear')\n",
        "# 2x+6y=6\n",
        "# 5x+3y=-9\n",
        "# x=? e y=?\n",
        "\n",
        "# [2 6 = [6\n",
        "#  5 3 ] - 9]\n",
        "\n",
        "coef = np.array([[2,6],[5,3]])\n",
        "resultado = np.array([6,-9])\n",
        "print(coef)\n",
        "solucao = np.linalg.solve(coef,resultado)\n",
        "print(solucao)\n",
        "print('x =', solucao[0])\n",
        "print('y =', solucao[1])\n"
      ],
      "metadata": {
        "id": "kWuaT_zVHjci"
      },
      "execution_count": null,
      "outputs": []
    },
    {
      "cell_type": "code",
      "source": [
        "print('Resolvendo um sistema linear 2')\n",
        "# Sistema Linear X=Euro, Y=Dollar Z=Yen\n",
        "# 2x+5y+2z = 18\n",
        "# 5x+3y+4z = 25\n",
        "# 3x+3y+4z = 19\n",
        "# x=? y=? z=?\n",
        "\n",
        "coef = np.array([[2,5,2],[5,3,4],[3,3,4]])\n",
        "resultado = np.array([18,25,19])\n",
        "print('================')\n",
        "print('Coeficientes')\n",
        "print(coef)\n",
        "print('================')\n",
        "print('Resultado')\n",
        "solucao = np.linalg.solve(coef,resultado)\n",
        "print(solucao)\n",
        "print('x =', solucao[0].round())\n",
        "print('y =', solucao[1].round())\n",
        "print('z =', solucao[2].round())\n",
        "\n"
      ],
      "metadata": {
        "id": "f05x5FMVLSpQ"
      },
      "execution_count": null,
      "outputs": []
    },
    {
      "cell_type": "code",
      "source": [
        "# Gráfico 1\n",
        "import matplotlib.pyplot as plt\n",
        "plt.plot([10,5,3,4,6,8])\n",
        "plt.title('sofrimento do universitário')\n",
        "plt.show()\n"
      ],
      "metadata": {
        "id": "XAokQYUNORXU"
      },
      "execution_count": null,
      "outputs": []
    },
    {
      "cell_type": "code",
      "source": [
        "# Gráfico 2\n",
        "data1 = [10,5,2,4,6,8]\n",
        "data2 = [1,2,4,8,7,4]\n",
        "x = 10*np.array(range(len(data1)))\n",
        "plt.plot(x,data1,'go') # green bolinha\n",
        "plt.plot(x,data1,'k:', color = 'orange')\n",
        "plt.plot(x, data2, 'r^') # red triangulo\n",
        "plt.plot(x, data2, 'k--', color = 'blue')\n",
        "plt.plot(x, data2, 'b--')\n",
        "plt.title('saúde mental do universitário')\n",
        "plt.grid(True)\n",
        "plt.xlabel('felicidade')\n",
        "plt.ylabel('depressão')\n",
        "plt.show()"
      ],
      "metadata": {
        "id": "SotR-RklQCuU"
      },
      "execution_count": null,
      "outputs": []
    },
    {
      "cell_type": "code",
      "source": [
        "# Gráfico 3\n",
        "import math\n",
        "def func(x):\n",
        "  return x * x\n",
        "\n",
        "x=[]\n",
        "y=[]\n",
        "for i in range(101):\n",
        "  x.append(i - 50)\n",
        "  y.append(func(i-50))\n",
        "\n",
        "eixoX=np.array(x)\n",
        "eixoY=np.array(y)\n",
        "plt.plot(eixoX,eixoY)\n",
        "plt.xlabel('eixo x')\n",
        "plt.ylabel('eixo y')\n",
        "plt.show()"
      ],
      "metadata": {
        "id": "mkIN_9vyb_tG"
      },
      "execution_count": null,
      "outputs": []
    },
    {
      "cell_type": "code",
      "source": [
        "# Gráfico 4\n",
        "eixoX = [1,2,3,4,5,6,7,8,9,10,11,12]\n",
        "eixoY = [15,20,33,45,30,27,28,32,35,45,60,58]\n",
        "listaCor=[]\n",
        "for i in eixoY:\n",
        "  if i<40:\n",
        "    listaCor.append('indigo')\n",
        "  else:\n",
        "    listaCor.append('blueviolet')\n",
        "plt.bar(eixoX, eixoY, color = listaCor)\n",
        "plt.title('Vendas de Celulares')\n",
        "plt.xlabel('Celulares')\n",
        "plt.ylabel('Vendas')\n",
        "plt.show()"
      ],
      "metadata": {
        "id": "g-13Fge_ezV5"
      },
      "execution_count": null,
      "outputs": []
    },
    {
      "cell_type": "code",
      "source": [
        "# Gráfico 5\n",
        "despesa = [20, 20, 40, 20]\n",
        "plt.pie(despesa, colors = ['blueviolet', 'pink', 'indigo', 'violet'], explode=[0, 0, 0.2, 0])\n",
        "plt.show()"
      ],
      "metadata": {
        "id": "_sLcJPetizsw"
      },
      "execution_count": null,
      "outputs": []
    },
    {
      "cell_type": "code",
      "source": [
        "# Gráfico 6\n",
        "eixoX = ['jan', 'fev', 'mar', 'abr', 'mai', 'jun', 'jul', 'ago', 'set', 'out', 'nov', 'dez']\n",
        "eixoY = [15,20,33,45,30,27,28,32,35,45,60,58]\n",
        "plt.pie(eixoY, labels = eixoX, colors = ['blueviolet', 'pink', 'indigo', 'violet'])\n",
        "plt.show()"
      ],
      "metadata": {
        "id": "pe50Hgy2j581"
      },
      "execution_count": null,
      "outputs": []
    },
    {
      "cell_type": "code",
      "source": [
        "import pandas as pd\n",
        "# import xlrd\n",
        "# import openpyxl\n",
        "df = pd.read_excel('Notas.xlsx')\n",
        "display(df)\n",
        "# print(df[['Aluno', 'T1']])\n",
        "# print(df[['Aluno', 'T2']])\n",
        "eixoX = df['Aluno']\n",
        "eixoY = df['T1']\n",
        "plt.bar(eixoX, eixoY, color= 'indigo')\n",
        "plt.title('Notas T1')\n",
        "plt.xlabel('Alunos')\n",
        "plt.ylabel('Notas')\n",
        "plt.show()"
      ],
      "metadata": {
        "id": "aCORcACOofKi"
      },
      "execution_count": null,
      "outputs": []
    },
    {
      "cell_type": "code",
      "source": [
        "def CalcMedia(dados):\n",
        "  media = []\n",
        "  media.append(dados['T1'].mean() ) #também pode colocar 'max' para nota máxima e 'min' para mínima\n",
        "  media.append(dados['T2'].mean() )\n",
        "  media.append(dados['T3'].mean() )\n",
        "  media.append(dados['T4'].mean() )\n",
        "  media.append(dados['T5'].mean() )\n",
        "  media.append(dados['T6'].mean() )\n",
        "  return media\n",
        "\n",
        "df = pd.read_excel('Notas.xlsx')   #df = dataframa (dado q vira tabela)\n",
        "media = CalcMedia(df)\n",
        "# print(media)\n",
        "eixoX = ['T1', 'T2', 'T3', 'T4', 'T5', 'T6']\n",
        "eixoY = media\n",
        "plt.bar(eixoX, eixoY, color= ['indigo', 'yellow'])\n",
        "plt.title('Médias')\n",
        "plt.xlabel('Avaliações')\n",
        "plt.ylabel('Média de Notas')\n",
        "plt.show()"
      ],
      "metadata": {
        "colab": {
          "base_uri": "https://localhost:8080/",
          "height": 472
        },
        "id": "oSmTxZRMo-FG",
        "outputId": "8e59267f-d356-436a-f829-4fdbf9130758"
      },
      "execution_count": 125,
      "outputs": [
        {
          "output_type": "display_data",
          "data": {
            "text/plain": [
              "<Figure size 640x480 with 1 Axes>"
            ],
            "image/png": "[encoded data removed]"
          },
          "metadata": {}
        }
      ]
    }
  ]
}