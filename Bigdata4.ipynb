{
  "nbformat": 4,
  "nbformat_minor": 0,
  "metadata": {
    "colab": {
      "provenance": []
    },
    "kernelspec": {
      "name": "python3",
      "display_name": "Python 3"
    },
    "language_info": {
      "name": "python"
    }
  },
  "cells": [
    {
      "cell_type": "code",
      "execution_count": null,
      "metadata": {
        "id": "VH1nsHEG_UZP"
      },
      "outputs": [],
      "source": [
        "import pandas as pd\n",
        "df = pd.read_excel(\"BASE01.CREDITO.xlsx\")\n",
        "print(df)"
      ]
    },
    {
      "cell_type": "code",
      "source": [
        "print(df[['cliente', 'perda', 'valorcredito']])\n",
        "# print(df.values[0])\n",
        "# print(df['cliente']) imprime um campo, 2 colchetes imprimem uma lista de campos"
      ],
      "metadata": {
        "id": "RpuEt19sABTZ"
      },
      "execution_count": null,
      "outputs": []
    },
    {
      "cell_type": "code",
      "source": [
        "print(df[['cliente', 'perda', 'valorcredito']].sort_values(by = 'perda'))"
      ],
      "metadata": {
        "id": "-nQzo_NMBNJH"
      },
      "execution_count": null,
      "outputs": []
    },
    {
      "cell_type": "code",
      "source": [
        "print(df[['cliente', 'perda', 'valorcredito']].sort_values(by = ['perda', 'valorcredito'], ascending = [False, False]))"
      ],
      "metadata": {
        "id": "vcyn-IxcCDkP"
      },
      "execution_count": null,
      "outputs": []
    },
    {
      "cell_type": "code",
      "source": [
        "print(df[['cliente', 'perda', 'valorcredito']].sort_values(by = ['perda', 'valorcredito'], ascending = [False, True]))"
      ],
      "metadata": {
        "id": "cpMq6fwJCv4C"
      },
      "execution_count": null,
      "outputs": []
    },
    {
      "cell_type": "code",
      "source": [
        "for i in range(len(df)):\n",
        "  print(\"Cliente                          :\", df.iloc[i]['cliente'])\n",
        "  print(\"Valor do crédito                 :\", df.iloc[i]['valorcredito'])\n",
        "  print(\"*********************************************\")"
      ],
      "metadata": {
        "id": "cih4IZi7DIUi"
      },
      "execution_count": null,
      "outputs": []
    },
    {
      "cell_type": "code",
      "source": [
        "print(df.count())\n",
        "print(df.count()['cliente'])"
      ],
      "metadata": {
        "id": "E32DvghUD2Nr"
      },
      "execution_count": null,
      "outputs": []
    },
    {
      "cell_type": "code",
      "source": [
        "print(df['valorcredito'].sum())"
      ],
      "metadata": {
        "id": "dnFY1UzoECJr"
      },
      "execution_count": null,
      "outputs": []
    },
    {
      "cell_type": "code",
      "source": [
        "print(\"Total de clientes por sexo\")\n",
        "display(df[['sexo' , 'cliente']].groupby('sexo').count().reset_index())"
      ],
      "metadata": {
        "id": "scozla5yELYy"
      },
      "execution_count": null,
      "outputs": []
    },
    {
      "cell_type": "code",
      "source": [
        "print(\"Total de clientes por sexo\")\n",
        "display(df[['sexo' , 'estadocivil', 'cliente']].groupby(by=['sexo', 'estadocivil']).count().reset_index())"
      ],
      "metadata": {
        "id": "Q7zidB5PGjcv"
      },
      "execution_count": null,
      "outputs": []
    },
    {
      "cell_type": "code",
      "source": [
        "print(\"Valor de credito por sexo\")\n",
        "display(df[['sexo' , 'valorcredito']].groupby('sexo').sum().reset_index())"
      ],
      "metadata": {
        "id": "vjIqUw0dFDpU"
      },
      "execution_count": null,
      "outputs": []
    },
    {
      "cell_type": "code",
      "source": [
        "print(\"Valor de credito por sexo\")\n",
        "x = df[['sexo' , 'valorcredito']].groupby(by='sexo').sum().reset_index()\n",
        "# print(x)\n",
        "print(x['valorcredito'])"
      ],
      "metadata": {
        "id": "BgugaXh8G-fN"
      },
      "execution_count": null,
      "outputs": []
    },
    {
      "cell_type": "code",
      "source": [
        "import matplotlib.pyplot as plt\n",
        "plt.pie(x['valorcredito'], labels=x['sexo'], autopct='%1.2f%%')\n",
        "plt.show()"
      ],
      "metadata": {
        "id": "VEXIYkgRHqft"
      },
      "execution_count": null,
      "outputs": []
    },
    {
      "cell_type": "code",
      "source": [
        "print(\"Quantidade de clientes por situação pagamento\")\n",
        "st=df[['situacaopagamento' , 'cliente']].groupby('situacaopagamento').count().reset_index()\n",
        "print(st)\n",
        "plt.pie(st['cliente'], labels=st['situacaopagamento'], autopct='%1.2f%%', explode=[0, 0.1])\n",
        "plt.show()"
      ],
      "metadata": {
        "id": "Q0IsBgOJQT0d"
      },
      "execution_count": null,
      "outputs": []
    },
    {
      "cell_type": "code",
      "source": [
        "dfAtraso = df[['situacaopagamento', 'valorcredito']].groupby('situacaopagamento').sum().reset_index()\n",
        "print(dfAtraso)\n",
        "plt.pie(dfAtraso['valorcredito'], colors=['r', 'b'], explode=[0, 0.1], autopct='%1.1f%%', labels=dfAtraso['situacaopagamento'])\n",
        "plt.show()"
      ],
      "metadata": {
        "id": "_kunxBbNRuak"
      },
      "execution_count": null,
      "outputs": []
    },
    {
      "cell_type": "code",
      "source": [
        "df1 = df[['valorcredito', 'tempodeatraso']]\n",
        "df1 = df1[df1['tempodeatraso'] > 0]\n",
        "# print(df1)\n",
        "df1 = df1.sort_values (by='valorcredito')\n",
        "# print(df1)\n",
        "gdf = df1[['valorcredito', 'tempodeatraso']].groupby('valorcredito').sum().reset_index()\n",
        "# print(gdf)\n",
        "eixoX = gdf['tempodeatraso']\n",
        "eixoY = gdf['valorcredito']\n",
        "plt.bar(eixoX, eixoY)\n",
        "plt.show()"
      ],
      "metadata": {
        "id": "s00UsjC8VHcA"
      },
      "execution_count": null,
      "outputs": []
    },
    {
      "cell_type": "code",
      "source": [
        "faixasCredito=[\"1-Até 1800\",\"2-De 1800 até 2750\",\"3-De 2751 até 3400\",\"4-Acima de 3400\"]\n",
        "faixas=[]\n",
        "for i in range(len(df)) :\n",
        "  if (df.iloc[i][\"valorcredito\"]<=1800 ):\n",
        "    faixas.append(faixasCredito[0])\n",
        "  elif (df.iloc[i][\"valorcredito\"]<=2750 ):\n",
        "    faixas.append(faixasCredito[1])\n",
        "  elif (df.iloc[i][\"valorcredito\"]<=3400 ):\n",
        "    faixas.append(faixasCredito[2])\n",
        "  else:\n",
        "    faixas.append(faixasCredito[3])\n",
        "\n",
        "df[\"FaixasCredito\"]=faixas\n",
        "df1=df[[\"FaixasCredito\",\"tempodeatraso\"]]\n",
        "df1=df1[df1[\"tempodeatraso\"]>0]\n",
        "df1=df1.sort_values(by=\"FaixasCredito\")\n",
        "gdf=df1[[\"FaixasCredito\",\"tempodeatraso\"]].groupby(\"FaixasCredito\").count().reset_index()\n",
        "print(gdf)\n",
        "eixoX=gdf[\"tempodeatraso\"]\n",
        "eixoY=gdf[\"FaixasCredito\"]\n",
        "plt.figure(figsize=(8,5))\n",
        "plt.bar(eixoY,eixoX)\n",
        "plt.show()"
      ],
      "metadata": {
        "id": "CWXyirEhZPOj"
      },
      "execution_count": null,
      "outputs": []
    },
    {
      "cell_type": "code",
      "source": [
        "faixasIdade=[\"1-Até 21\",\"2-De 22 até 25\",\"3-De 26 até 30\",\"4-Acima de 30\"]\n",
        "faixas=[]\n",
        "for i in range(len(df)) :\n",
        "  if (df.iloc[i][\"idade\"]<= 21 ):\n",
        "    faixas.append(faixasIdade[0])\n",
        "  elif (df.iloc[i][\"idade\"]<=25 ):\n",
        "    faixas.append(faixasIdade[1])\n",
        "  elif (df.iloc[i][\"idade\"]<=30 ):\n",
        "    faixas.append(faixasIdade[2])\n",
        "  else:\n",
        "    faixas.append(faixasIdade[3])\n",
        "\n",
        "df[\"faixasIdade\"]=faixas\n",
        "df1=df[[\"faixasIdade\",\"tempodeatraso\"]]\n",
        "df1=df1[df1[\"tempodeatraso\"]>0]\n",
        "df1=df1.sort_values(by=\"faixasIdade\")\n",
        "gdf=df1[[\"faixasIdade\",\"tempodeatraso\"]].groupby(\"faixasIdade\").count().reset_index()\n",
        "print(gdf)\n",
        "eixoX=gdf[\"tempodeatraso\"]\n",
        "eixoY=gdf[\"faixasIdade\"]\n",
        "plt.figure(figsize=(8,5))\n",
        "plt.bar(eixoY,eixoX)\n",
        "plt.show()"
      ],
      "metadata": {
        "colab": {
          "base_uri": "https://localhost:8080/",
          "height": 537
        },
        "id": "szsTSzLgdIQa",
        "outputId": "b30731b3-0033-4098-93ce-12774d1487ad"
      },
      "execution_count": 67,
      "outputs": [
        {
          "output_type": "stream",
          "name": "stdout",
          "text": [
            "      faixasIdade  tempodeatraso\n",
            "0        1-Até 21              5\n",
            "1  2-De 22 até 25             16\n",
            "2  3-De 26 até 30              9\n",
            "3   4-Acima de 30              4\n"
          ]
        },
        {
          "output_type": "display_data",
          "data": {
            "text/plain": [
              "<Figure size 800x500 with 1 Axes>"
            ],
            "image/png": "[encoded data removed]"
          },
          "metadata": {}
        }
      ]
    }
  ]
}