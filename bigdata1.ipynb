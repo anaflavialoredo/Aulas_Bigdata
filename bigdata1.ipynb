{
  "nbformat": 4,
  "nbformat_minor": 0,
  "metadata": {
    "colab": {
      "provenance": []
    },
    "kernelspec": {
      "name": "python3",
      "display_name": "Python 3"
    },
    "language_info": {
      "name": "python"
    }
  },
  "cells": [
    {
      "cell_type": "markdown",
      "source": [
        "Comando de impressão"
      ],
      "metadata": {
        "id": "eUgrLTmcX82P"
      }
    },
    {
      "cell_type": "code",
      "execution_count": null,
      "metadata": {
        "colab": {
          "base_uri": "https://localhost:8080/"
        },
        "id": "yi6YcW0tWvkS",
        "outputId": "b606c673-8c24-475f-9d92-fd1016561969"
      },
      "outputs": [
        {
          "output_type": "stream",
          "name": "stdout",
          "text": [
            "hello world\n"
          ]
        }
      ],
      "source": [
        "print(\"hello world\")"
      ]
    },
    {
      "cell_type": "markdown",
      "source": [
        "Entendendo tipos de Dados"
      ],
      "metadata": {
        "id": "Iu699GvcYDfn"
      }
    },
    {
      "cell_type": "code",
      "source": [
        "a=1\n",
        "b=2\n",
        "print(a+b)\n",
        "a= \"1\"\n",
        "b=\"2\"\n",
        "print(a+b)"
      ],
      "metadata": {
        "colab": {
          "base_uri": "https://localhost:8080/"
        },
        "id": "k5AMCHKhXaF-",
        "outputId": "5f2f1ea7-4002-449e-d266-f09b7aec2357"
      },
      "execution_count": null,
      "outputs": [
        {
          "output_type": "stream",
          "name": "stdout",
          "text": [
            "3\n",
            "12\n"
          ]
        }
      ]
    },
    {
      "cell_type": "markdown",
      "source": [
        "  Comando de Entrada de dados\n"
      ],
      "metadata": {
        "id": "IvsMX7T8YYdJ"
      }
    },
    {
      "cell_type": "code",
      "source": [
        "Nome = input(\"Entre com o seu nome \")\n",
        "Idade = input(\"Entre com a sua idade \")\n",
        "# Idade = int(input(\"Entre com a sua idade \"))\n",
        "ano = 2024 - int(Idade)\n",
        "print(\"Nome:\", Nome)\n",
        "print(\"Idade:\", Idade)\n",
        "print(\"Ano de nascimento:\", ano)\n",
        "\n"
      ],
      "metadata": {
        "colab": {
          "base_uri": "https://localhost:8080/"
        },
        "id": "jyhua2ocYce_",
        "outputId": "e73d8cd5-cb6d-4e89-b5be-80ee2a3f888a"
      },
      "execution_count": null,
      "outputs": [
        {
          "output_type": "stream",
          "name": "stdout",
          "text": [
            "Entre com o seu nome Ana\n",
            "Entre com a sua idade 19\n",
            "Nome: Ana\n",
            "Idade: 19\n",
            "Ano de nascimento: 2005\n"
          ]
        }
      ]
    },
    {
      "cell_type": "markdown",
      "source": [
        "Calcular média com IF"
      ],
      "metadata": {
        "id": "ebyqL1L4e_Pn"
      }
    },
    {
      "cell_type": "code",
      "source": [
        "NI = float(input(\"Entre com a nota de NI:\"))\n",
        "PI = float(input(\"Entre com a nota de PI:\"))\n",
        "PO = float(input(\"Entre com a nota de PO:\"))\n",
        "MF =(0.20*NI+0.30*PI+0.50*PO)\n",
        "print (\"Média Final:\", MF)\n",
        "if MF >= 6:\n",
        "  print(\"Aprovado\")\n",
        "elif MF >=4:\n",
        "  print(\"Exame, nota mínima 6\")\n",
        "elif MF >=2:\n",
        "  print(\"Exame, nota mínima 7\")\n",
        "else:\n",
        "  print(\"Reprovado\")"
      ],
      "metadata": {
        "colab": {
          "base_uri": "https://localhost:8080/"
        },
        "id": "Y_Jil1GXaMjl",
        "outputId": "2c0f8fc3-2b04-467c-a255-2a95e41212f2"
      },
      "execution_count": null,
      "outputs": [
        {
          "output_type": "stream",
          "name": "stdout",
          "text": [
            "Entre com a nota de NI:0\n",
            "Entre com a nota de PI:1\n",
            "Entre com a nota de PO:2\n",
            "Média Final: 1.3\n",
            "Reprovado\n"
          ]
        }
      ]
    },
    {
      "cell_type": "markdown",
      "source": [
        "FOR"
      ],
      "metadata": {
        "id": "o34L6rl9fDH2"
      }
    },
    {
      "cell_type": "code",
      "source": [
        "for i in range(1,20,2):\n",
        "  print(i)"
      ],
      "metadata": {
        "collapsed": true,
        "id": "ahzDsKoeeWiM"
      },
      "execution_count": null,
      "outputs": []
    },
    {
      "cell_type": "markdown",
      "source": [
        "Imprimir os n primeiros números pares"
      ],
      "metadata": {
        "id": "a17AEgGvf3k3"
      }
    },
    {
      "cell_type": "code",
      "source": [
        "n = int (input(\"Entre com a quantidade de pares\"))\n",
        "for i in range (n):\n",
        "  print(i*2)"
      ],
      "metadata": {
        "id": "QeNOq8Bdf2SA"
      },
      "execution_count": null,
      "outputs": []
    },
    {
      "cell_type": "markdown",
      "source": [
        "Lista"
      ],
      "metadata": {
        "id": "EEG436M4g9b1"
      }
    },
    {
      "cell_type": "code",
      "source": [
        "impares = [1,3,5,7,9]\n",
        "print(impares)\n",
        "print(impares[0])\n",
        "print(impares[4])\n",
        "# imprime até n-1 abaixo\n",
        "print(impares[2:4])\n",
        "# imprime todos a partir do indice 2\n",
        "print(impares[2:])\n",
        "# imprime todos até o indice 2 (não imprime o indice 2)\n",
        "print(impares[:2])\n",
        "# imprime quantos elementos tem\n",
        "print(len(impares))\n",
        "\n",
        "\n"
      ],
      "metadata": {
        "id": "CBkogIYag_Hf"
      },
      "execution_count": null,
      "outputs": []
    },
    {
      "cell_type": "code",
      "source": [
        "lista = [10,20,30,40,50,60]\n",
        "print(\"Tamanho da lista:\", len(lista))\n",
        "for i in range(len(lista)):\n",
        "  print(i, \":\", lista[i])\n",
        "\n",
        "# muda o valor do elemento de indice 3\n",
        "lista[3] = 999\n",
        "# append insere elemento no final da lista\n",
        "lista.append(-257)\n",
        "print(\"Tamanho da lista:\", len(lista))\n",
        "print(\"Nova lista: \")\n",
        "for i in range(len(lista)):\n",
        "  print(i, \":\", lista[i])\n",
        "\n",
        "\n",
        "  print(\"Tamanho da lista:\", len(lista))\n",
        "  print(\"Nova lista ordenada:\")\n",
        "  lista.sort()\n",
        "  for i in range(len(lista)):\n",
        "    print(i, \":\", lista[i])\n"
      ],
      "metadata": {
        "id": "kOA0klj7iiKO"
      },
      "execution_count": null,
      "outputs": []
    },
    {
      "cell_type": "code",
      "source": [
        "letras = ['a', 'b', 'c', 'd', 'e']\n",
        "print(letras)\n",
        "letras.append('f')\n",
        "print(letras)\n",
        "# insert insere o elemento no indice que eu indicar\n",
        "letras.insert(3, 'b')\n",
        "print(letras)\n",
        "while 'b' in letras:\n",
        "  letras.remove('b')\n",
        "print(letras)\n",
        "# remove o primeiro b\n",
        "# letras.remove('b')\n",
        "# print(letras)"
      ],
      "metadata": {
        "id": "CtzFBO01lUll"
      },
      "execution_count": null,
      "outputs": []
    },
    {
      "cell_type": "code",
      "source": [
        "import random as rnd\n",
        "lista = [] #cria lista vazia\n",
        "for i in range(10):\n",
        "  x = rnd.randint(1,100)\n",
        "  lista.append(x)\n",
        "  print(lista)"
      ],
      "metadata": {
        "colab": {
          "base_uri": "https://localhost:8080/"
        },
        "id": "V4Ehq1v9nM0T",
        "outputId": "c631ae6f-34d9-4b39-e248-ab07a79ef0ae"
      },
      "execution_count": null,
      "outputs": [
        {
          "output_type": "stream",
          "name": "stdout",
          "text": [
            "[40]\n",
            "[40, 4]\n",
            "[40, 4, 76]\n",
            "[40, 4, 76, 3]\n",
            "[40, 4, 76, 3, 83]\n",
            "[40, 4, 76, 3, 83, 59]\n",
            "[40, 4, 76, 3, 83, 59, 13]\n",
            "[40, 4, 76, 3, 83, 59, 13, 40]\n",
            "[40, 4, 76, 3, 83, 59, 13, 40, 87]\n",
            "[40, 4, 76, 3, 83, 59, 13, 40, 87, 47]\n"
          ]
        }
      ]
    }
  ]
}